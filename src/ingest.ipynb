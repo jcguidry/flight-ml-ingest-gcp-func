{
 "cells": [
  {
   "cell_type": "code",
   "execution_count": 1,
   "metadata": {},
   "outputs": [],
   "source": [
    "   \n",
    "import os\n",
    "\n",
    "import requests\n",
    "import pandas as pd\n",
    "\n",
    "pd.set_option('display.max_columns', None)\n",
    "pd.set_option('display.max_rows', 50)\n",
    "\n",
    "import logging\n",
    "logging.basicConfig(level=logging.INFO)\n",
    "\n",
    "from pandas_gbq import gbq\n",
    "\n",
    "from datetime import datetime as dt\n",
    "from datetime import timedelta \n",
    "\n",
    "from utils import FlightAwareAPI\n",
    "from utils import run_bigquery_query\n"
   ]
  },
  {
   "cell_type": "code",
   "execution_count": 2,
   "metadata": {},
   "outputs": [],
   "source": [
    "\n",
    "## I/O Functions\n",
    "\n",
    "def get_flight_data(api, identifier, start_datetime, end_datetime, max_pages=40):\n",
    "    \"\"\"\n",
    "    Get flight data from FlightAware API, given an identifier and a time range.\n",
    "    \"\"\"\n",
    "    endpoint_base = '/flights/'\n",
    "    endpoint = f'{endpoint_base}{identifier}'\n",
    "    try:\n",
    "        data = api.query(endpoint, \n",
    "                end= end_datetime, \n",
    "                start= start_datetime, \n",
    "                max_pages=max_pages)\n",
    "\n",
    "    except requests.HTTPError as e:\n",
    "        print(e)\n",
    "\n",
    "    df = pd.json_normalize(data, 'flights')\n",
    "\n",
    "    return df\n",
    "\n",
    "\n",
    "def get_last_run_timestamp(table_ref):\n",
    "    # Define the query to get the max timestamp\n",
    "    query = f\"SELECT MAX(crt_ts) as max_ts FROM `{table_ref}`\"\n",
    "\n",
    "    try:\n",
    "        results_df = run_bigquery_query(query)\n",
    "        last_run_ts = results_df['max_ts'][0]\n",
    "        #this will raise an error if the timestamp is NaT, which occurs when the table is empty.\n",
    "        assert results_df['max_ts'][0] != pd.NaT \n",
    "        return last_run_ts\n",
    "    \n",
    "\n",
    "    except Exception as e:\n",
    "        # If an error occurs (such as the table not existing), return a very early timestamp\n",
    "        print('No existing table, returning early timestamp.')\n",
    "        return pd.Timestamp('2000-01-01 00:00:00')\n"
   ]
  },
  {
   "cell_type": "code",
   "execution_count": 3,
   "metadata": {},
   "outputs": [],
   "source": [
    "## Transformation Functions\n",
    "\n",
    "def rename_columns_remove_periods(dataframe):\n",
    "    new_columns = dataframe.columns.str.replace(\".\", \"_\")\n",
    "    dataframe = dataframe.rename(columns=dict(zip(dataframe.columns, new_columns)))\n",
    "    return dataframe\n",
    "\n",
    "def create_crt_ts_cols(df):\n",
    "    df['crt_ts'] = pd.to_datetime('now') \n",
    "    df['crt_ts_year'] = df['crt_ts'].dt.year\n",
    "    df['crt_ts_month'] = df['crt_ts'].dt.month\n",
    "    df['crt_ts_day'] = df['crt_ts'].dt.day\n",
    "    df['crt_ts_hour'] = df['crt_ts'].dt.hour\n",
    "    return df"
   ]
  },
  {
   "cell_type": "code",
   "execution_count": 4,
   "metadata": {},
   "outputs": [],
   "source": [
    "def main():\n",
    "    # CREDENTIALS - DELETE THIS LINE BEFORE COMMITTING\n",
    "    os.environ['FLIGHTAWARE_API_KEY'] = 'w4tsTSMNABOlC4HTtKsc38Odp8CDGAK9'\n",
    "    os.environ[\"GOOGLE_APPLICATION_CREDENTIALS\"] = \"/Users/collinguidry/Downloads/aia-ds-accelerator-flight-1-ba42ff928314.json\"\n",
    "\n",
    "    # API QUERY PARAMETERS\n",
    "    identifier = 'AAL2563'\n",
    "\n",
    "    lookback_hours = 7*24 # based on the flight's estimated or actual departure\n",
    "    lookfoward_hours = 2*24 \n",
    "    # Timestamp calculations\n",
    "    query_start = (dt.now()- timedelta(hours=lookback_hours)).strftime('%Y-%m-%dT%H:%M:%SZ')\n",
    "    current_time = dt.now().strftime('%Y-%m-%dT%H:%M:%SZ')\n",
    "    query_end = (dt.now()+ timedelta(hours=lookfoward_hours)).strftime('%Y-%m-%dT%H:%M:%SZ')\n",
    "\n",
    "\n",
    "    # BIGQUERY OUTPUT PARAMETERS\n",
    "    project_id = 'aia-ds-accelerator-flight-1'\n",
    "    dataset_id = 'flightaware'\n",
    "    table_id = 'flightsummary_raw'\n",
    "    # BigQuery output table name\n",
    "    table_ref_out = f\"{project_id}.{dataset_id}.{table_id}\"\n",
    "\n",
    "\n",
    "    # EXECUTION\n",
    "    API = FlightAwareAPI(os.getenv('FLIGHTAWARE_API_KEY'))\n",
    "\n",
    "    df = get_flight_data(API, identifier, query_start, query_end)\n",
    "\n",
    "    # Rename columns with '.' in the name.\n",
    "    df = rename_columns_remove_periods(df)\n",
    "\n",
    "    # Convert columns to string to avoid errors when writing to BigQuery\n",
    "    df['codeshares'] = df['codeshares'].astype(str)\n",
    "    df['codeshares_iata'] = df['codeshares_iata'].astype(str)\n",
    "\n",
    "    # Get the last run timestamp from BigQuery\n",
    "    last_run_ts = get_last_run_timestamp(table_ref=table_ref_out)\n",
    "    df['last_run_ts'] = last_run_ts\n",
    "    \n",
    "    print(f'last run timestamp: {last_run_ts}')\n",
    "\n",
    "    # Add current run timestamp column\n",
    "    df = create_crt_ts_cols(df)\n",
    "\n",
    "\n",
    "    # Write to BigQuery\n",
    "    try:\n",
    "        # Append the data to the table. If the table doesn't exist, create it.\n",
    "        gbq.to_gbq(df, table_ref_out, project_id=project_id, if_exists='append')\n",
    "        logging.info(f\"Data loaded successfully to {table_ref_out}\")\n",
    "\n",
    "    except gbq.GenericGBQException as e:\n",
    "        logging.error(f\"An error occurred: {e}\")\n",
    "\n",
    "    except Exception as e:\n",
    "        logging.error(f\"An unexpected error occurred: {e}\")\n",
    "\n"
   ]
  },
  {
   "cell_type": "code",
   "execution_count": 5,
   "metadata": {},
   "outputs": [
    {
     "name": "stdout",
     "output_type": "stream",
     "text": [
      "last run timestamp: 2023-07-13 12:12:54.663153+00:00\n"
     ]
    },
    {
     "name": "stderr",
     "output_type": "stream",
     "text": [
      "9 out of 9 rows loaded.\n",
      "INFO:root:Data loaded successfully to aia-ds-accelerator-flight-1.flightaware.flightsummary_raw\n"
     ]
    }
   ],
   "source": [
    "# Performing the execution in here prevents main() from being called when the module is imported\n",
    "# and it allows us to run this file directly from the command line\n",
    "\n",
    "if __name__ == \"__main__\":\n",
    "    main()"
   ]
  }
 ],
 "metadata": {
  "kernelspec": {
   "display_name": "CG_env1",
   "language": "python",
   "name": "python3"
  },
  "language_info": {
   "codemirror_mode": {
    "name": "ipython",
    "version": 3
   },
   "file_extension": ".py",
   "mimetype": "text/x-python",
   "name": "python",
   "nbconvert_exporter": "python",
   "pygments_lexer": "ipython3",
   "version": "3.8.16"
  },
  "orig_nbformat": 4
 },
 "nbformat": 4,
 "nbformat_minor": 2
}
