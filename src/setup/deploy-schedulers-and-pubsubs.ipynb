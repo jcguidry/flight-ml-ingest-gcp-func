{
 "cells": [
  {
   "cell_type": "markdown",
   "metadata": {},
   "source": [
    "# Cloud Scheduler and PubSub Deployment\n",
    "\n",
    "This notebook is used to create cron-based GCP schedulers, which are used to trigger the ingest function. They should pass a flight identifier to the function, for which the function will pull that identifier from the FlightAware API.\n",
    "\n",
    "This can be run once on setup of the project, and the GCP resources will be created to trigger the ingest cloud function.\n",
    "\n",
    "To run properly, your GCP credentials must be globally available to the notebook. This can be accomplished by using the google cloud SDK and running `gcloud auth application-default login` in your terminal. Or using the `google cloud VS Code extension` and logging in there.\n",
    "\n",
    "In future iterations, the multiple schedulers can be creater for each flight identifier to be tracked."
   ]
  },
  {
   "cell_type": "code",
   "execution_count": 1,
   "metadata": {},
   "outputs": [],
   "source": [
    "# !pip install google-cloud-scheduler\n",
    "# !pip install google-cloud-pubsub"
   ]
  },
  {
   "cell_type": "code",
   "execution_count": 2,
   "metadata": {},
   "outputs": [],
   "source": [
    "from google.cloud import pubsub_v1\n",
    "from google.cloud import scheduler_v1\n",
    "\n",
    "import json\n",
    "import os\n",
    "import pandas as pd"
   ]
  },
  {
   "cell_type": "code",
   "execution_count": 3,
   "metadata": {},
   "outputs": [],
   "source": [
    "def list_cloud_scheduler_jobs(project_id, region = 'us-central1', return_df = False):\n",
    "    \n",
    "    scheduler_client = scheduler_v1.CloudSchedulerClient()\n",
    "    \n",
    "    # parent location must be formatted like this\n",
    "    parent = f'projects/{project_id}/locations/{region}'\n",
    "\n",
    "    jobs_data = []\n",
    "    for job in scheduler_client.list_jobs(parent=parent):\n",
    "        jobs_data.append({\n",
    "            \"Name\": job.name,\n",
    "            \"Description\": job.description,\n",
    "            \"Schedule\": job.schedule,\n",
    "            \"Time Zone\": job.time_zone,\n",
    "            \"Pubsub Target\": job.pubsub_target.topic_name,\n",
    "            \"Pubsub Target Data\": job.pubsub_target.data,\n",
    "        })\n",
    "\n",
    "    # Creating a DataFrame\n",
    "    df = pd.DataFrame(jobs_data)\n",
    "\n",
    "    if return_df: return df \n",
    "    else: return jobs_data"
   ]
  },
  {
   "cell_type": "code",
   "execution_count": 4,
   "metadata": {},
   "outputs": [],
   "source": [
    "def list_pubsub_topics(project_id, return_df = False):\n",
    "    project_path = f\"projects/{project_id}\"\n",
    "\n",
    "    # Collecting topic data\n",
    "    topics_data = []\n",
    "    publisher_client = pubsub_v1.PublisherClient()\n",
    "\n",
    "    for topic in publisher_client.list_topics(request={\"project\": project_path}):\n",
    "        topics_data.append({\n",
    "            \"Name\": topic.name,\n",
    "            \"KMS Key Name\": topic.kms_key_name\n",
    "        })\n",
    "\n",
    "    # Creating a DataFrame\n",
    "    df = pd.DataFrame(topics_data)\n",
    "\n",
    "    if return_df: return df \n",
    "    else: return topics_data\n"
   ]
  },
  {
   "cell_type": "code",
   "execution_count": 5,
   "metadata": {},
   "outputs": [],
   "source": [
    "# from google.protobuf.duration_pb2 import Duration\n",
    "from google.cloud.scheduler_v1.types import PubsubTarget, HttpTarget, Job\n",
    "\n",
    "def create_or_update_cloud_scheduler_job(project_id, region, name, description, cron_schedule, time_zone, pubsub_topic, pubsub_data):\n",
    "    # Format the parent and job name\n",
    "    parent = f'projects/{project_id}/locations/{region}'\n",
    "    job_name = f'{parent}/jobs/{name}'\n",
    "\n",
    "    # Cloud Scheduler client\n",
    "    scheduler_client = scheduler_v1.CloudSchedulerClient()\n",
    "\n",
    "    # Pubsub target\n",
    "    pubsub_target = PubsubTarget(\n",
    "        topic_name=pubsub_topic,\n",
    "        data=pubsub_data.encode('utf-8') # encode the data as bytes\n",
    "    )\n",
    "\n",
    "    # Job configuration\n",
    "    job = Job(\n",
    "        name=job_name,\n",
    "        description=description,\n",
    "        schedule=cron_schedule,\n",
    "        time_zone=time_zone,\n",
    "        pubsub_target=pubsub_target,\n",
    "    )\n",
    "\n",
    "    # Attempt to update the job\n",
    "    try:\n",
    "        response = scheduler_client.update_job(job=job)\n",
    "        print('Job updated:', response.name)\n",
    "    except Exception as e:\n",
    "        # If job does not exist, create a new one\n",
    "        response = scheduler_client.create_job(parent=parent, job=job)\n",
    "        print('Job created:', response.name)\n",
    "\n",
    "    return response\n"
   ]
  },
  {
   "cell_type": "code",
   "execution_count": 6,
   "metadata": {},
   "outputs": [],
   "source": [
    "def delete_cloud_scheduler_job(project_id, region, name):\n",
    "    # Cloud Scheduler client\n",
    "    scheduler_client = scheduler_v1.CloudSchedulerClient()\n",
    "\n",
    "    # Format the job name\n",
    "    job_name = f'projects/{project_id}/locations/{region}/jobs/{name}'\n",
    "\n",
    "    # Attempt to delete the job\n",
    "    try:\n",
    "        scheduler_client.delete_job(name=job_name)\n",
    "        print(f'Job {name} deleted successfully.')\n",
    "    except Exception as e:\n",
    "        print(f'An error occurred while deleting job {name}: {e}')\n",
    "\n",
    "    return None\n"
   ]
  },
  {
   "cell_type": "markdown",
   "metadata": {},
   "source": [
    "# Main Execution Below"
   ]
  },
  {
   "cell_type": "code",
   "execution_count": 7,
   "metadata": {},
   "outputs": [],
   "source": [
    "project_id = 'aia-ds-accelerator-flight-1'"
   ]
  },
  {
   "cell_type": "code",
   "execution_count": 8,
   "metadata": {},
   "outputs": [
    {
     "name": "stdout",
     "output_type": "stream",
     "text": [
      "Job updated: projects/aia-ds-accelerator-flight-1/locations/us-central1/jobs/flight-ingest-trigger-10min\n"
     ]
    },
    {
     "data": {
      "text/plain": [
       "name: \"projects/aia-ds-accelerator-flight-1/locations/us-central1/jobs/flight-ingest-trigger-10min\"\n",
       "description: \"CRON-based trigger for cloud function used for flight data ingestion every 10 minutes\"\n",
       "pubsub_target {\n",
       "  topic_name: \"projects/aia-ds-accelerator-flight-1/topics/ingest-flight-snapshot-trigger\"\n",
       "  data: \"{\\\"flight_ident\\\": \\\"AA2563\\\"}\"\n",
       "}\n",
       "schedule: \"*/10 * * * *\"\n",
       "time_zone: \"Etc/UTC\"\n",
       "user_update_time {\n",
       "  seconds: 1690867940\n",
       "}\n",
       "state: PAUSED"
      ]
     },
     "execution_count": 8,
     "metadata": {},
     "output_type": "execute_result"
    }
   ],
   "source": [
    "# Replicate the original trigger\n",
    "\n",
    "name = 'flight-ingest-trigger-10min'\n",
    "description = 'CRON-based trigger for cloud function used for flight data ingestion every 10 minutes'\n",
    "cron_schedule = '*/10 * * * *' # Every 10 minutes\n",
    "time_zone = 'Etc/UTC'\n",
    "pubsub_topic = 'projects/aia-ds-accelerator-flight-1/topics/ingest-flight-snapshot-trigger'\n",
    "\n",
    "###### Data to be passed to the cloud function ######\n",
    "flight_ident_dict = {'flight_ident': 'AA2563'}\n",
    "pubsub_data = json.dumps(flight_ident_dict)\n",
    "\n",
    "create_or_update_cloud_scheduler_job(project_id, 'us-central1', name, description, cron_schedule, time_zone, pubsub_topic, pubsub_data)\n"
   ]
  },
  {
   "cell_type": "code",
   "execution_count": 9,
   "metadata": {},
   "outputs": [
    {
     "data": {
      "text/plain": [
       "[{'Name': 'projects/aia-ds-accelerator-flight-1/locations/us-central1/jobs/flight-ingest-trigger-10min',\n",
       "  'Description': 'CRON-based trigger for cloud function used for flight data ingestion every 10 minutes',\n",
       "  'Schedule': '*/10 * * * *',\n",
       "  'Time Zone': 'Etc/UTC',\n",
       "  'Pubsub Target': 'projects/aia-ds-accelerator-flight-1/topics/ingest-flight-snapshot-trigger',\n",
       "  'Pubsub Target Data': b'{\"flight_ident\": \"AA2563\"}'}]"
      ]
     },
     "execution_count": 9,
     "metadata": {},
     "output_type": "execute_result"
    }
   ],
   "source": [
    "list_cloud_scheduler_jobs(project_id, region= 'us-central1', return_df= False)"
   ]
  },
  {
   "cell_type": "code",
   "execution_count": 10,
   "metadata": {},
   "outputs": [
    {
     "data": {
      "text/html": [
       "<div>\n",
       "<style scoped>\n",
       "    .dataframe tbody tr th:only-of-type {\n",
       "        vertical-align: middle;\n",
       "    }\n",
       "\n",
       "    .dataframe tbody tr th {\n",
       "        vertical-align: top;\n",
       "    }\n",
       "\n",
       "    .dataframe thead th {\n",
       "        text-align: right;\n",
       "    }\n",
       "</style>\n",
       "<table border=\"1\" class=\"dataframe\">\n",
       "  <thead>\n",
       "    <tr style=\"text-align: right;\">\n",
       "      <th></th>\n",
       "      <th>Name</th>\n",
       "      <th>KMS Key Name</th>\n",
       "    </tr>\n",
       "  </thead>\n",
       "  <tbody>\n",
       "    <tr>\n",
       "      <th>0</th>\n",
       "      <td>projects/aia-ds-accelerator-flight-1/topics/in...</td>\n",
       "      <td></td>\n",
       "    </tr>\n",
       "  </tbody>\n",
       "</table>\n",
       "</div>"
      ],
      "text/plain": [
       "                                                Name KMS Key Name\n",
       "0  projects/aia-ds-accelerator-flight-1/topics/in...             "
      ]
     },
     "execution_count": 10,
     "metadata": {},
     "output_type": "execute_result"
    }
   ],
   "source": [
    "list_pubsub_topics(project_id ,return_df=True)"
   ]
  },
  {
   "cell_type": "code",
   "execution_count": 11,
   "metadata": {},
   "outputs": [],
   "source": [
    "# # Create an example trigger\n",
    "\n",
    "# name = 'example-scheduler-job'\n",
    "# description = 'This is a sample scheduler job.'\n",
    "# cron_schedule = '*/10 * * * *' # Every 5 minutes\n",
    "# time_zone = 'Etc/UTC'\n",
    "# pubsub_topic = 'projects/aia-ds-accelerator-flight-1/topics/my-topic'\n",
    "# # pubsub_topic = 'projects/aia-ds-accelerator-flight-1/topics/ingest-flight-snapshot-trigger'\n",
    "# pubsub_data = 'This is the message contents.'\n",
    "\n",
    "# create_or_update_cloud_scheduler_job(project_id, 'us-central1', name, description, cron_schedule, time_zone, pubsub_topic, pubsub_data)\n"
   ]
  },
  {
   "cell_type": "code",
   "execution_count": 12,
   "metadata": {},
   "outputs": [],
   "source": [
    "# # Delete the example trigger\n",
    "\n",
    "# name = 'example-scheduler-job'\n",
    "# delete_cloud_scheduler_job(project_id, 'us-central1', name)\n"
   ]
  },
  {
   "cell_type": "code",
   "execution_count": 13,
   "metadata": {},
   "outputs": [],
   "source": [
    "# In future, can iterate over a list of flight identifiers, and deploy a scheduler for each.\n",
    "# Potentially can maintein a table of identifiers to carry, for which schedulers can be added."
   ]
  }
 ],
 "metadata": {
  "kernelspec": {
   "display_name": "CG_env1",
   "language": "python",
   "name": "python3"
  },
  "language_info": {
   "codemirror_mode": {
    "name": "ipython",
    "version": 3
   },
   "file_extension": ".py",
   "mimetype": "text/x-python",
   "name": "python",
   "nbconvert_exporter": "python",
   "pygments_lexer": "ipython3",
   "version": "3.8.16"
  },
  "orig_nbformat": 4
 },
 "nbformat": 4,
 "nbformat_minor": 2
}
