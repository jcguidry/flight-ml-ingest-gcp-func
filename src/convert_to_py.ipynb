{
 "cells": [
  {
   "cell_type": "code",
   "execution_count": 1,
   "metadata": {},
   "outputs": [
    {
     "name": "stdout",
     "output_type": "stream",
     "text": [
      "[NbConvertApp] Converting notebook ingest.ipynb to python\n",
      "[NbConvertApp] Writing 5248 bytes to ingest.py\n"
     ]
    }
   ],
   "source": [
    "# Convert to python script after de-bugging\n",
    "!jupyter nbconvert --to python ingest.ipynb"
   ]
  }
 ],
 "metadata": {
  "kernelspec": {
   "display_name": "CG_env1",
   "language": "python",
   "name": "python3"
  },
  "language_info": {
   "codemirror_mode": {
    "name": "ipython",
    "version": 3
   },
   "file_extension": ".py",
   "mimetype": "text/x-python",
   "name": "python",
   "nbconvert_exporter": "python",
   "pygments_lexer": "ipython3",
   "version": "3.8.16"
  },
  "orig_nbformat": 4
 },
 "nbformat": 4,
 "nbformat_minor": 2
}
